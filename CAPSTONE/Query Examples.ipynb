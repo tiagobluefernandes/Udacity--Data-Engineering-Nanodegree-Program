{
 "cells": [
  {
   "cell_type": "code",
   "execution_count": 1,
   "metadata": {
    "editable": true
   },
   "outputs": [],
   "source": [
    "import datetime as dt\n",
    "import pandas as pd\n",
    "pd.set_option(\"display.max_columns\", None)\n",
    "from pyspark.sql import SparkSession, SQLContext, GroupedData\n",
    "from pyspark.sql.functions import *\n",
    "#from pyspark.sql.functions import isnan, when, count, col\n",
    "\n",
    "import os\n",
    "os.environ[\"JAVA_HOME\"] = \"/usr/lib/jvm/java-8-openjdk-amd64\"\n",
    "os.environ[\"PATH\"] = \"/opt/conda/bin:/opt/spark-2.4.3-bin-hadoop2.7/bin:/opt/conda/bin:/usr/local/sbin:/usr/local/bin:/usr/sbin:/usr/bin:/sbin:/bin:/usr/lib/jvm/java-8-openjdk-amd64/bin\"\n",
    "os.environ[\"SPARK_HOME\"] = \"/opt/spark-2.4.3-bin-hadoop2.7\"\n",
    "os.environ[\"HADOOP_HOME\"] = \"/opt/spark-2.4.3-bin-hadoop2.7\"\n",
    "\n",
    "spark = SparkSession \\\n",
    "    .builder \\\n",
    "    .config(\"spark.jars.packages\", \"org.apache.hadoop:hadoop-aws:2.7.0\") \\\n",
    "    .getOrCreate()"
   ]
  },
  {
   "cell_type": "code",
   "execution_count": 2,
   "metadata": {
    "editable": true
   },
   "outputs": [],
   "source": [
    "dict_all_df = {\n",
    "    'inmigration' : {'df'  : None,\n",
    "                     'file':'./model/facts_inmigration.parquet'},\n",
    "    'temperature' : {'df'  : None,\n",
    "                     'file': './model/temperature.parquet'},\n",
    "    'modes'       : {'df'  : None,\n",
    "                     'file': './model/mode.parquet'},\n",
    "    'countries'   : {'df'  : None,\n",
    "                     'file': './model/countrie.parquet'},\n",
    "    'states'      : {'df'  : None,\n",
    "                     'file': './model/state.parquet'},\n",
    "    'visa'        : {'df'  : None,\n",
    "                     'file': './model/visa.parquet'},\n",
    "    'airports'    : {'df'  : None,\n",
    "                     'file': './model/airport.parquet'},\n",
    "    'airport_data': {'df'  : None,\n",
    "                     'file': './model/airport_data.parquet'},\n",
    "    'cities'      : {'df'  : None,\n",
    "                     'file': './model/city.parquet'},\n",
    "}"
   ]
  },
  {
   "cell_type": "code",
   "execution_count": 3,
   "metadata": {
    "editable": true
   },
   "outputs": [
    {
     "name": "stdout",
     "output_type": "stream",
     "text": [
      "Reading inmigration Table\n",
      "Reading temperature Table\n",
      "Reading modes Table\n",
      "Reading countries Table\n",
      "Reading states Table\n",
      "Reading visa Table\n",
      "Reading airports Table\n",
      "Reading airport_data Table\n",
      "Reading cities Table\n"
     ]
    }
   ],
   "source": [
    "# Import all parquet files\n",
    "for name, _dict in dict_all_df.items():\n",
    "    print(f'Reading {name} Table')\n",
    "    _path = _dict['file']\n",
    "    df = spark.read.parquet(_path)\n",
    "    _dict['df'] = df"
   ]
  },
  {
   "cell_type": "markdown",
   "metadata": {
    "editable": true
   },
   "source": [
    "### Example QUERY 1: \n",
    " - select all inmigration data from a specific arrival day"
   ]
  },
  {
   "cell_type": "code",
   "execution_count": 4,
   "metadata": {
    "editable": true
   },
   "outputs": [
    {
     "name": "stdout",
     "output_type": "stream",
     "text": [
      "FACT table has 1141596 rows\n",
      "FACT table has 42143 rows from 2016-04-01\n"
     ]
    }
   ],
   "source": [
    "# Register the DataFrame as a SQL temporary view\n",
    "df = dict_all_df['inmigration']['df']\n",
    "df.createOrReplaceTempView(\"inmigration\")\n",
    "\n",
    "sql_query_0 = \"\"\"\n",
    "    SELECT * \n",
    "    FROM inmigration \n",
    "    \"\"\"\n",
    "result_0 = spark.sql(sql_query_0)\n",
    "print(f'FACT table has {result_0.count()} rows')\n",
    "\n",
    "sql_query_1 = \"\"\"\n",
    "    SELECT * \n",
    "    FROM inmigration as in\n",
    "    WHERE in.arrival_year = 2016 and in.arrival_month = 4 and in.arrival_day = 1\"\"\"\n",
    "result_1 = spark.sql(sql_query_1)\n",
    "print(f'FACT table has {result_1.count()} rows from 2016-04-01')"
   ]
  },
  {
   "cell_type": "markdown",
   "metadata": {
    "editable": true
   },
   "source": [
    "### Example QUERY 2:\n",
    " - select all inmigration data from a specific airport "
   ]
  },
  {
   "cell_type": "code",
   "execution_count": 5,
   "metadata": {
    "editable": true
   },
   "outputs": [
    {
     "name": "stdout",
     "output_type": "stream",
     "text": [
      "FACT table has 50686 rows from \"BOS\" airport (BOSTON)\n"
     ]
    }
   ],
   "source": [
    "# Register the DataFrame as a SQL temporary view\n",
    "df_0 = dict_all_df['inmigration']['df']\n",
    "df_0.createOrReplaceTempView(\"inmigration\")\n",
    "df_1 = dict_all_df['airports']['df']\n",
    "df_1.createOrReplaceTempView(\"airports\")\n",
    "\n",
    "sql_query = \"\"\"\n",
    "    SELECT * \n",
    "    FROM inmigration as in\n",
    "        LEFT JOIN airports as air \n",
    "        ON in.airport_id = air.airport_id \n",
    "    WHERE air.airport_id = 'BOS'\n",
    "    \"\"\"\n",
    "result = spark.sql(sql_query)\n",
    "print(f'FACT table has {result.count()} rows from \"BOS\" airport (BOSTON)')"
   ]
  },
  {
   "cell_type": "markdown",
   "metadata": {
    "editable": true
   },
   "source": [
    "### Example QUERY 3: \n",
    " - select all inmigration data from people who were born in BRAZIL and crossed the LAND border"
   ]
  },
  {
   "cell_type": "code",
   "execution_count": 6,
   "metadata": {
    "editable": true
   },
   "outputs": [
    {
     "name": "stdout",
     "output_type": "stream",
     "text": [
      "FACT table has 15625 rows from people who crossed the Land boarder\n",
      "FACT table has 83644 rows from people who were born in BRAZIL\n",
      "FACT table has 253 rows from people who crossed the Land boarder and were born in BRAZIL\n"
     ]
    }
   ],
   "source": [
    "# Register the DataFrame as a SQL temporary view\n",
    "df_0 = dict_all_df['inmigration']['df']\n",
    "df_0.createOrReplaceTempView(\"inmigration\")\n",
    "df_1 = dict_all_df['modes']['df']\n",
    "df_1.createOrReplaceTempView(\"modes\")\n",
    "df_2 = dict_all_df['countries']['df']\n",
    "df_2.createOrReplaceTempView(\"countries\")\n",
    "\n",
    "\n",
    "sql_query_0 = \"\"\"\n",
    "    SELECT * \n",
    "    FROM inmigration as in\n",
    "        LEFT JOIN countries as co \n",
    "        ON in.birth_country = co.country_id\n",
    "        LEFT JOIN modes as mo\n",
    "        ON in.arrival_mode_id = mo.mode_id\n",
    "    WHERE mo.mode_name = 'Land'\n",
    "    \"\"\"\n",
    "result_0 = spark.sql(sql_query_0)\n",
    "print(f'FACT table has {result_0.count()} rows from people who crossed the Land boarder')\n",
    "\n",
    "sql_query_1 = \"\"\"\n",
    "    SELECT * \n",
    "    FROM inmigration as in\n",
    "        LEFT JOIN countries as co \n",
    "        ON in.birth_country = co.country_id\n",
    "        LEFT JOIN modes as mo\n",
    "        ON in.arrival_mode_id = mo.mode_id\n",
    "    WHERE co.country_name = 'BRAZIL'\n",
    "    \"\"\"\n",
    "result_1 = spark.sql(sql_query_1)\n",
    "print(f'FACT table has {result_1.count()} rows from people who were born in BRAZIL')\n",
    "\n",
    "sql_query_2 = \"\"\"\n",
    "    SELECT * \n",
    "    FROM inmigration as in\n",
    "        LEFT JOIN countries as co \n",
    "        ON in.birth_country = co.country_id\n",
    "        LEFT JOIN modes as mo\n",
    "        ON in.arrival_mode_id = mo.mode_id\n",
    "    WHERE mo.mode_name = 'Land' and co.country_name = 'BRAZIL'\n",
    "    \"\"\"\n",
    "result_2 = spark.sql(sql_query_2)\n",
    "print(f'FACT table has {result_2.count()} rows from people who crossed the Land boarder and were born in BRAZIL')"
   ]
  },
  {
   "cell_type": "code",
   "execution_count": null,
   "metadata": {
    "editable": true
   },
   "outputs": [],
   "source": []
  }
 ],
 "metadata": {
  "kernelspec": {
   "display_name": "Python 3",
   "language": "python",
   "name": "python3"
  },
  "language_info": {
   "codemirror_mode": {
    "name": "ipython",
    "version": 3
   },
   "file_extension": ".py",
   "mimetype": "text/x-python",
   "name": "python",
   "nbconvert_exporter": "python",
   "pygments_lexer": "ipython3",
   "version": "3.6.3"
  }
 },
 "nbformat": 4,
 "nbformat_minor": 4
}
