{
 "cells": [
  {
   "cell_type": "markdown",
   "metadata": {
    "editable": true
   },
   "source": [
    "# Project Title\n",
    "### Data Engineering Capstone Project\n",
    "\n",
    "#### Project Summary\n",
    "This project will create a DataWarehouse using Spark and parquet files. A star schema for US airports inmigration data was used: facts and dimensional tables.\n",
    "\n",
    "\n",
    "The project follows the follow steps:\n",
    "* Step 1: Scope the Project and Gather Data\n",
    "* Step 2: Explore and Assess the Data\n",
    "* Step 3: Define the Data Model\n",
    "* Step 4: Run ETL to Model the Data\n",
    "* Step 5: Complete Project Write Up"
   ]
  },
  {
   "cell_type": "code",
   "execution_count": 1,
   "metadata": {
    "editable": true
   },
   "outputs": [],
   "source": [
    "import datetime as dt\n",
    "import pandas as pd\n",
    "pd.set_option(\"display.max_columns\", None)\n",
    "from pyspark.sql import SparkSession, SQLContext, GroupedData\n",
    "from pyspark.sql.functions import *\n",
    "#from pyspark.sql.functions import isnan, when, count, col"
   ]
  },
  {
   "cell_type": "markdown",
   "metadata": {
    "editable": true
   },
   "source": [
    "### Step 1: Scope the Project and Gather Data\n",
    "\n",
    "#### Scope \n",
    "We will use several file sources and SPARK to create a star schema model with inmigration data to the United States from April 2016.\n",
    "\n",
    "#### Describe and Gather Data "
   ]
  },
  {
   "cell_type": "markdown",
   "metadata": {
    "editable": true
   },
   "source": [
    "Here we provide a brief description of all input files:\n",
    "- **Dataframe \"inmigration\"** created from file \"immigration_data_sample\" or from parquet files in \"sas_data\" folder\n",
    "\n",
    "- **Dataframe \"cities\"** created from file \"us-cities-demographics\".\n",
    "- **Dataframe \"visa\"** created from file \"visa\". File was built from \"https://www.trade.gov/i-94-arrivals-program\" and file \"I94_SAS_Labels_Descriptions.SAS\".\n",
    "- **Dataframe \"airports\"** created from file \"airports\". File was built from file \"I94_SAS_Labels_Descriptions.SAS\".\n",
    "- **Dataframe \"airport_data\"** created from file \"airport-codes_csv\".\n",
    "- **Dataframe \"states\"** created from file \"states\". File was built from file \"I94_SAS_Labels_Descriptions.SAS\".\n",
    "- **Dataframe \"countries\"** created from file \"countries\". File was built from file \"I94_SAS_Labels_Descriptions.SAS\".\n",
    "- **Dataframe \"modes\"** created from file \"modes\". File was built from file \"I94_SAS_Labels_Descriptions.SAS\".\n",
    "- **Dataframe \"temperatures\"** created from file \"GlobalLandTemperaturesByCity.csv\". This file is available in another folder due to its large size (508MB).\n",
    "- **Dataframe \"cities_coordinates\"** created from file \"uscities.csv\". This file is available online (https://simplemaps.com/data/us-cities) and it will be necessary to define which state each city corresponds to (in the temperature dataframe) through the latitude and longitude data. This step is necessary because in the temperature file there are several cities with the same name that correspond to different states (column not available). **This match WILL NOT BE IMPLEMENTED in this project** thus, temperature table will not be related to all other tables in our model.\n",
    "\n",
    "Please refer to files **Initial Data Dictionary.md** and **Data Dictionary.md** for more details on each table.\n"
   ]
  },
  {
   "cell_type": "code",
   "execution_count": 2,
   "metadata": {
    "editable": true
   },
   "outputs": [],
   "source": [
    "import os\n",
    "os.environ[\"JAVA_HOME\"] = \"/usr/lib/jvm/java-8-openjdk-amd64\"\n",
    "os.environ[\"PATH\"] = \"/opt/conda/bin:/opt/spark-2.4.3-bin-hadoop2.7/bin:/opt/conda/bin:/usr/local/sbin:/usr/local/bin:/usr/sbin:/usr/bin:/sbin:/bin:/usr/lib/jvm/java-8-openjdk-amd64/bin\"\n",
    "os.environ[\"SPARK_HOME\"] = \"/opt/spark-2.4.3-bin-hadoop2.7\"\n",
    "os.environ[\"HADOOP_HOME\"] = \"/opt/spark-2.4.3-bin-hadoop2.7\""
   ]
  },
  {
   "cell_type": "code",
   "execution_count": 3,
   "metadata": {
    "editable": true
   },
   "outputs": [],
   "source": [
    "from tools_source import Sources\n",
    "from tools_clean_transform import Cleaner_and_Transformer\n",
    "from tools_validation import Validator\n",
    "#Modelizer, Validator\n",
    "\n",
    "#spark = SparkSession.builder.\\\n",
    "#config(\"spark.jars.packages\",\"saurfang:spark-sas7bdat:2.0.0-s_2.11\").enableHiveSupport().getOrCreate()\n",
    "\n",
    "spark = SparkSession \\\n",
    "    .builder \\\n",
    "    .config(\"spark.jars.packages\", \"org.apache.hadoop:hadoop-aws:2.7.0\") \\\n",
    "    .getOrCreate()"
   ]
  },
  {
   "cell_type": "code",
   "execution_count": 4,
   "metadata": {
    "editable": true
   },
   "outputs": [],
   "source": [
    "# dictionary with filpaths to all input files - csv and parquet\n",
    "source_paths={\n",
    "    'inmigration_path'   : './sas_data',\n",
    "    'temperature_path'   : '../../data2/GlobalLandTemperaturesByCity.csv',\n",
    "    'modes_path'         : './sources/modes.csv',\n",
    "    'cities_path'        : './sources/us-cities-demographics.csv',\n",
    "    'states_path'        : './sources/states.csv',\n",
    "    'countries_path'     : './sources/countries.csv',\n",
    "    'visa_path'          : './sources/visa.csv',\n",
    "    'airports_path'      : './sources/airports.csv',\n",
    "    'airport_data_path'  : './sources/airport-codes_csv.csv',\n",
    "    'cities_coordinates' : './sources/uscities.csv'\n",
    "}\n",
    "\n",
    "sources_df = Sources(spark,source_paths)"
   ]
  },
  {
   "cell_type": "code",
   "execution_count": 5,
   "metadata": {
    "editable": true
   },
   "outputs": [],
   "source": [
    "# import initial dataframes\n",
    "df_inmigration = sources_df.get_inmigration_data()\n",
    "df_temp = sources_df.get_temperature_data()\n",
    "df_modes = sources_df.get_modes_of_arrival()\n",
    "df_cities = sources_df.get_cities_data()\n",
    "df_states = sources_df.get_states_data()\n",
    "df_countries = sources_df.get_countries_data()\n",
    "df_visa = sources_df.get_visa_data()\n",
    "df_airports = sources_df.get_airports()\n",
    "df_airport_data = sources_df.get_airports_data()\n",
    "df_cities_coord = sources_df.get_cities_coord_data()"
   ]
  },
  {
   "cell_type": "markdown",
   "metadata": {
    "editable": true
   },
   "source": [
    "### Step 2: Explore and Assess the Data - Clean and Transform"
   ]
  },
  {
   "cell_type": "markdown",
   "metadata": {
    "editable": true
   },
   "source": [
    "#### Here we will clean and transform our datasets to address the following items:\n",
    "- Column names and formats\n",
    "- Duplicated rows\n",
    "- Null values\n",
    "- Standardize date columns format and create new columns: year, month, day \n",
    "- Standardize and convert coordinate columns (latitude and longitude to float) "
   ]
  },
  {
   "cell_type": "code",
   "execution_count": 6,
   "metadata": {
    "editable": true
   },
   "outputs": [],
   "source": [
    "cleaning_dfs = Cleaner_and_Transformer()"
   ]
  },
  {
   "cell_type": "code",
   "execution_count": 7,
   "metadata": {
    "editable": true
   },
   "outputs": [],
   "source": [
    "df_temp_clean = cleaning_dfs.clean_and_transform_temperature(df_temp)\n",
    "df_modes_clean = cleaning_dfs.clean_and_transform_modes(df_modes)\n",
    "df_countries_clean = cleaning_dfs.clean_and_transform_countries(df_countries)\n",
    "###########################################################################################\n",
    "# enrich the states dataset with data from cities\n",
    "df_cities_clean = cleaning_dfs.clean_and_transform_cities(df_cities)\n",
    "df_states_clean = cleaning_dfs.clean_and_transform_states(df_states,df_cities_clean)\n",
    "del df_cities_clean\n",
    "###########################################################################################\n",
    "df_visa_clean = cleaning_dfs.clean_and_transform_visa(df_visa)\n",
    "df_airports_clean =  cleaning_dfs.clean_and_transform_airports(df_airports)\n",
    "df_airport_data_clean =  cleaning_dfs.clean_and_transform_airport_data(df_airport_data)\n",
    "df_cities_coord_clean =  cleaning_dfs.clean_and_transform_cities_coord(df_cities_coord)\n",
    "###########################################################################################\n",
    "df_inmigration_clean_all = cleaning_dfs.clean_and_transform_inmigration_data(df_inmigration)\n"
   ]
  },
  {
   "cell_type": "code",
   "execution_count": 8,
   "metadata": {
    "editable": true
   },
   "outputs": [],
   "source": [
    "dict_all_df = {\n",
    "    'inmigration' : df_inmigration_clean_all,\n",
    "    'temperature' : df_temp_clean,\n",
    "    'modes'       : df_modes_clean,\n",
    "    'countries'   : df_countries_clean,\n",
    "    'states'      : df_states_clean,\n",
    "    'visa'        : df_visa_clean,\n",
    "    'airports'    : df_airports_clean,\n",
    "    'airport_data': df_airport_data_clean,\n",
    "    'cities'      : df_cities_coord_clean,\n",
    "}"
   ]
  },
  {
   "cell_type": "code",
   "execution_count": 9,
   "metadata": {
    "editable": true
   },
   "outputs": [
    {
     "name": "stdout",
     "output_type": "stream",
     "text": [
      "There are 3096313 entries/rows but only 1141596 are valid (36%), meaning, represented in current DIM Tables\n"
     ]
    }
   ],
   "source": [
    "# Filter only inmigration data in DIM tables\n",
    "df_inmigration_clean = cleaning_dfs.integrity_inmigration_data(dict_all_df)\n",
    "all_entries = df_inmigration_clean_all.count()\n",
    "valid_entries = df_inmigration_clean.count()\n",
    "percentage_entries = int(valid_entries/all_entries*100)\n",
    "print(f'There are {all_entries} entries/rows but only {valid_entries} are valid ({percentage_entries}%), meaning, represented in current DIM Tables')"
   ]
  },
  {
   "cell_type": "code",
   "execution_count": 10,
   "metadata": {
    "editable": true
   },
   "outputs": [],
   "source": [
    "# update dictionary\n",
    "dict_all_df.update({'inmigration' : df_inmigration_clean})"
   ]
  },
  {
   "cell_type": "code",
   "execution_count": 11,
   "metadata": {
    "editable": true
   },
   "outputs": [
    {
     "name": "stdout",
     "output_type": "stream",
     "text": [
      "------------------------------------------------------------\n",
      "inmigration has 1141596 rows\n",
      "root\n",
      " |-- cic_id: integer (nullable = true)\n",
      " |-- year: integer (nullable = true)\n",
      " |-- month: integer (nullable = true)\n",
      " |-- birth_country: integer (nullable = true)\n",
      " |-- residence_country: integer (nullable = true)\n",
      " |-- airport_id: string (nullable = true)\n",
      " |-- arrival_date: date (nullable = true)\n",
      " |-- arrival_mode_id: integer (nullable = false)\n",
      " |-- state_name_code: string (nullable = false)\n",
      " |-- departure_date: date (nullable = true)\n",
      " |-- repondent_age: integer (nullable = true)\n",
      " |-- count: integer (nullable = true)\n",
      " |-- visa_issued_department: string (nullable = true)\n",
      " |-- occupation: string (nullable = true)\n",
      " |-- arrival_flag: string (nullable = true)\n",
      " |-- departure_flag: string (nullable = true)\n",
      " |-- update_flag: string (nullable = true)\n",
      " |-- match_arrival_departure_flag: string (nullable = true)\n",
      " |-- birth_year: integer (nullable = true)\n",
      " |-- allowed_date: date (nullable = true)\n",
      " |-- gender: string (nullable = true)\n",
      " |-- ins_number: integer (nullable = true)\n",
      " |-- airline: string (nullable = true)\n",
      " |-- admission_number: integer (nullable = true)\n",
      " |-- flight_number: string (nullable = true)\n",
      " |-- visa_type: string (nullable = true)\n",
      " |-- arrival_year: integer (nullable = true)\n",
      " |-- arrival_month: integer (nullable = true)\n",
      " |-- arrival_day: integer (nullable = true)\n",
      " |-- departure_year: integer (nullable = true)\n",
      " |-- departure_month: integer (nullable = true)\n",
      " |-- departure_day: integer (nullable = true)\n",
      " |-- date_added_year: string (nullable = true)\n",
      " |-- date_added_month: string (nullable = true)\n",
      " |-- date_added_day: string (nullable = true)\n",
      " |-- date_added: string (nullable = true)\n",
      " |-- allowed_date_year: integer (nullable = true)\n",
      " |-- allowed_date_month: integer (nullable = true)\n",
      " |-- allowed_date_day: integer (nullable = true)\n",
      "\n"
     ]
    },
    {
     "data": {
      "text/html": [
       "<div>\n",
       "<style scoped>\n",
       "    .dataframe tbody tr th:only-of-type {\n",
       "        vertical-align: middle;\n",
       "    }\n",
       "\n",
       "    .dataframe tbody tr th {\n",
       "        vertical-align: top;\n",
       "    }\n",
       "\n",
       "    .dataframe thead th {\n",
       "        text-align: right;\n",
       "    }\n",
       "</style>\n",
       "<table border=\"1\" class=\"dataframe\">\n",
       "  <thead>\n",
       "    <tr style=\"text-align: right;\">\n",
       "      <th></th>\n",
       "      <th>cic_id</th>\n",
       "      <th>year</th>\n",
       "      <th>month</th>\n",
       "      <th>birth_country</th>\n",
       "      <th>residence_country</th>\n",
       "      <th>airport_id</th>\n",
       "      <th>arrival_date</th>\n",
       "      <th>arrival_mode_id</th>\n",
       "      <th>state_name_code</th>\n",
       "      <th>departure_date</th>\n",
       "      <th>repondent_age</th>\n",
       "      <th>count</th>\n",
       "      <th>visa_issued_department</th>\n",
       "      <th>occupation</th>\n",
       "      <th>arrival_flag</th>\n",
       "      <th>departure_flag</th>\n",
       "      <th>update_flag</th>\n",
       "      <th>match_arrival_departure_flag</th>\n",
       "      <th>birth_year</th>\n",
       "      <th>allowed_date</th>\n",
       "      <th>gender</th>\n",
       "      <th>ins_number</th>\n",
       "      <th>airline</th>\n",
       "      <th>admission_number</th>\n",
       "      <th>flight_number</th>\n",
       "      <th>visa_type</th>\n",
       "      <th>arrival_year</th>\n",
       "      <th>arrival_month</th>\n",
       "      <th>arrival_day</th>\n",
       "      <th>departure_year</th>\n",
       "      <th>departure_month</th>\n",
       "      <th>departure_day</th>\n",
       "      <th>date_added_year</th>\n",
       "      <th>date_added_month</th>\n",
       "      <th>date_added_day</th>\n",
       "      <th>date_added</th>\n",
       "      <th>allowed_date_year</th>\n",
       "      <th>allowed_date_month</th>\n",
       "      <th>allowed_date_day</th>\n",
       "    </tr>\n",
       "  </thead>\n",
       "  <tbody>\n",
       "    <tr>\n",
       "      <th>0</th>\n",
       "      <td>5748525</td>\n",
       "      <td>2016</td>\n",
       "      <td>4</td>\n",
       "      <td>245</td>\n",
       "      <td>464</td>\n",
       "      <td>HOU</td>\n",
       "      <td>2016-04-30</td>\n",
       "      <td>1</td>\n",
       "      <td>FL</td>\n",
       "      <td>2016-05-07</td>\n",
       "      <td>27</td>\n",
       "      <td>1</td>\n",
       "      <td>ACK</td>\n",
       "      <td>None</td>\n",
       "      <td>G</td>\n",
       "      <td>O</td>\n",
       "      <td>None</td>\n",
       "      <td>M</td>\n",
       "      <td>1989</td>\n",
       "      <td>2016-10-29</td>\n",
       "      <td>M</td>\n",
       "      <td>None</td>\n",
       "      <td>NZ</td>\n",
       "      <td>2147483647</td>\n",
       "      <td>00028</td>\n",
       "      <td>B2</td>\n",
       "      <td>2016</td>\n",
       "      <td>4</td>\n",
       "      <td>30</td>\n",
       "      <td>2016</td>\n",
       "      <td>5</td>\n",
       "      <td>7</td>\n",
       "      <td>2016</td>\n",
       "      <td>04</td>\n",
       "      <td>30</td>\n",
       "      <td>2016-04-30</td>\n",
       "      <td>2016</td>\n",
       "      <td>10</td>\n",
       "      <td>29</td>\n",
       "    </tr>\n",
       "    <tr>\n",
       "      <th>1</th>\n",
       "      <td>5748527</td>\n",
       "      <td>2016</td>\n",
       "      <td>4</td>\n",
       "      <td>245</td>\n",
       "      <td>504</td>\n",
       "      <td>NEW</td>\n",
       "      <td>2016-04-30</td>\n",
       "      <td>1</td>\n",
       "      <td>MA</td>\n",
       "      <td>2016-05-02</td>\n",
       "      <td>44</td>\n",
       "      <td>1</td>\n",
       "      <td>GUZ</td>\n",
       "      <td>None</td>\n",
       "      <td>G</td>\n",
       "      <td>O</td>\n",
       "      <td>None</td>\n",
       "      <td>M</td>\n",
       "      <td>1972</td>\n",
       "      <td>2016-10-29</td>\n",
       "      <td>M</td>\n",
       "      <td>None</td>\n",
       "      <td>UA</td>\n",
       "      <td>2147483647</td>\n",
       "      <td>01215</td>\n",
       "      <td>B2</td>\n",
       "      <td>2016</td>\n",
       "      <td>4</td>\n",
       "      <td>30</td>\n",
       "      <td>2016</td>\n",
       "      <td>5</td>\n",
       "      <td>2</td>\n",
       "      <td>2016</td>\n",
       "      <td>04</td>\n",
       "      <td>30</td>\n",
       "      <td>2016-04-30</td>\n",
       "      <td>2016</td>\n",
       "      <td>10</td>\n",
       "      <td>29</td>\n",
       "    </tr>\n",
       "    <tr>\n",
       "      <th>2</th>\n",
       "      <td>5748532</td>\n",
       "      <td>2016</td>\n",
       "      <td>4</td>\n",
       "      <td>245</td>\n",
       "      <td>504</td>\n",
       "      <td>MIA</td>\n",
       "      <td>2016-04-30</td>\n",
       "      <td>1</td>\n",
       "      <td>FL</td>\n",
       "      <td>2016-05-07</td>\n",
       "      <td>53</td>\n",
       "      <td>1</td>\n",
       "      <td>PNM</td>\n",
       "      <td>None</td>\n",
       "      <td>G</td>\n",
       "      <td>O</td>\n",
       "      <td>None</td>\n",
       "      <td>M</td>\n",
       "      <td>1963</td>\n",
       "      <td>2016-10-29</td>\n",
       "      <td>F</td>\n",
       "      <td>None</td>\n",
       "      <td>CM</td>\n",
       "      <td>2147483647</td>\n",
       "      <td>00430</td>\n",
       "      <td>B2</td>\n",
       "      <td>2016</td>\n",
       "      <td>4</td>\n",
       "      <td>30</td>\n",
       "      <td>2016</td>\n",
       "      <td>5</td>\n",
       "      <td>7</td>\n",
       "      <td>2016</td>\n",
       "      <td>04</td>\n",
       "      <td>30</td>\n",
       "      <td>2016-04-30</td>\n",
       "      <td>2016</td>\n",
       "      <td>10</td>\n",
       "      <td>29</td>\n",
       "    </tr>\n",
       "  </tbody>\n",
       "</table>\n",
       "</div>"
      ],
      "text/plain": [
       "    cic_id  year  month  birth_country  residence_country airport_id  \\\n",
       "0  5748525  2016      4            245                464        HOU   \n",
       "1  5748527  2016      4            245                504        NEW   \n",
       "2  5748532  2016      4            245                504        MIA   \n",
       "\n",
       "  arrival_date  arrival_mode_id state_name_code departure_date  repondent_age  \\\n",
       "0   2016-04-30                1              FL     2016-05-07             27   \n",
       "1   2016-04-30                1              MA     2016-05-02             44   \n",
       "2   2016-04-30                1              FL     2016-05-07             53   \n",
       "\n",
       "   count visa_issued_department occupation arrival_flag departure_flag  \\\n",
       "0      1                    ACK       None            G              O   \n",
       "1      1                    GUZ       None            G              O   \n",
       "2      1                    PNM       None            G              O   \n",
       "\n",
       "  update_flag match_arrival_departure_flag  birth_year allowed_date gender  \\\n",
       "0        None                            M        1989   2016-10-29      M   \n",
       "1        None                            M        1972   2016-10-29      M   \n",
       "2        None                            M        1963   2016-10-29      F   \n",
       "\n",
       "  ins_number airline  admission_number flight_number visa_type  arrival_year  \\\n",
       "0       None      NZ        2147483647         00028        B2          2016   \n",
       "1       None      UA        2147483647         01215        B2          2016   \n",
       "2       None      CM        2147483647         00430        B2          2016   \n",
       "\n",
       "   arrival_month  arrival_day  departure_year  departure_month  departure_day  \\\n",
       "0              4           30            2016                5              7   \n",
       "1              4           30            2016                5              2   \n",
       "2              4           30            2016                5              7   \n",
       "\n",
       "  date_added_year date_added_month date_added_day  date_added  \\\n",
       "0            2016               04             30  2016-04-30   \n",
       "1            2016               04             30  2016-04-30   \n",
       "2            2016               04             30  2016-04-30   \n",
       "\n",
       "   allowed_date_year  allowed_date_month  allowed_date_day  \n",
       "0               2016                  10                29  \n",
       "1               2016                  10                29  \n",
       "2               2016                  10                29  "
      ]
     },
     "metadata": {},
     "output_type": "display_data"
    },
    {
     "name": "stdout",
     "output_type": "stream",
     "text": [
      "------------------------------------------------------------\n",
      "temperature has 661524 rows\n",
      "root\n",
      " |-- date: date (nullable = true)\n",
      " |-- average_temperature: float (nullable = true)\n",
      " |-- average_temperature_uncertainty: float (nullable = true)\n",
      " |-- city: string (nullable = true)\n",
      " |-- country: string (nullable = true)\n",
      " |-- latitude: string (nullable = true)\n",
      " |-- longitude: string (nullable = true)\n",
      " |-- year: integer (nullable = true)\n",
      " |-- month: integer (nullable = true)\n",
      " |-- day: integer (nullable = true)\n",
      " |-- lat: float (nullable = true)\n",
      " |-- lng: float (nullable = true)\n",
      "\n"
     ]
    },
    {
     "data": {
      "text/html": [
       "<div>\n",
       "<style scoped>\n",
       "    .dataframe tbody tr th:only-of-type {\n",
       "        vertical-align: middle;\n",
       "    }\n",
       "\n",
       "    .dataframe tbody tr th {\n",
       "        vertical-align: top;\n",
       "    }\n",
       "\n",
       "    .dataframe thead th {\n",
       "        text-align: right;\n",
       "    }\n",
       "</style>\n",
       "<table border=\"1\" class=\"dataframe\">\n",
       "  <thead>\n",
       "    <tr style=\"text-align: right;\">\n",
       "      <th></th>\n",
       "      <th>date</th>\n",
       "      <th>average_temperature</th>\n",
       "      <th>average_temperature_uncertainty</th>\n",
       "      <th>city</th>\n",
       "      <th>country</th>\n",
       "      <th>latitude</th>\n",
       "      <th>longitude</th>\n",
       "      <th>year</th>\n",
       "      <th>month</th>\n",
       "      <th>day</th>\n",
       "      <th>lat</th>\n",
       "      <th>lng</th>\n",
       "    </tr>\n",
       "  </thead>\n",
       "  <tbody>\n",
       "    <tr>\n",
       "      <th>0</th>\n",
       "      <td>1820-01-01</td>\n",
       "      <td>2.101</td>\n",
       "      <td>3.217</td>\n",
       "      <td>Abilene</td>\n",
       "      <td>United States</td>\n",
       "      <td>32.95N</td>\n",
       "      <td>100.53W</td>\n",
       "      <td>1820</td>\n",
       "      <td>1</td>\n",
       "      <td>1</td>\n",
       "      <td>32.950001</td>\n",
       "      <td>-100.529999</td>\n",
       "    </tr>\n",
       "    <tr>\n",
       "      <th>1</th>\n",
       "      <td>1820-02-01</td>\n",
       "      <td>6.926</td>\n",
       "      <td>2.853</td>\n",
       "      <td>Abilene</td>\n",
       "      <td>United States</td>\n",
       "      <td>32.95N</td>\n",
       "      <td>100.53W</td>\n",
       "      <td>1820</td>\n",
       "      <td>2</td>\n",
       "      <td>1</td>\n",
       "      <td>32.950001</td>\n",
       "      <td>-100.529999</td>\n",
       "    </tr>\n",
       "    <tr>\n",
       "      <th>2</th>\n",
       "      <td>1820-03-01</td>\n",
       "      <td>10.767</td>\n",
       "      <td>2.395</td>\n",
       "      <td>Abilene</td>\n",
       "      <td>United States</td>\n",
       "      <td>32.95N</td>\n",
       "      <td>100.53W</td>\n",
       "      <td>1820</td>\n",
       "      <td>3</td>\n",
       "      <td>1</td>\n",
       "      <td>32.950001</td>\n",
       "      <td>-100.529999</td>\n",
       "    </tr>\n",
       "  </tbody>\n",
       "</table>\n",
       "</div>"
      ],
      "text/plain": [
       "         date  average_temperature  average_temperature_uncertainty     city  \\\n",
       "0  1820-01-01                2.101                            3.217  Abilene   \n",
       "1  1820-02-01                6.926                            2.853  Abilene   \n",
       "2  1820-03-01               10.767                            2.395  Abilene   \n",
       "\n",
       "         country latitude longitude  year  month  day        lat         lng  \n",
       "0  United States   32.95N   100.53W  1820      1    1  32.950001 -100.529999  \n",
       "1  United States   32.95N   100.53W  1820      2    1  32.950001 -100.529999  \n",
       "2  United States   32.95N   100.53W  1820      3    1  32.950001 -100.529999  "
      ]
     },
     "metadata": {},
     "output_type": "display_data"
    },
    {
     "name": "stdout",
     "output_type": "stream",
     "text": [
      "------------------------------------------------------------\n",
      "modes has 4 rows\n",
      "root\n",
      " |-- mode_id: integer (nullable = true)\n",
      " |-- mode_name: string (nullable = true)\n",
      "\n"
     ]
    },
    {
     "data": {
      "text/html": [
       "<div>\n",
       "<style scoped>\n",
       "    .dataframe tbody tr th:only-of-type {\n",
       "        vertical-align: middle;\n",
       "    }\n",
       "\n",
       "    .dataframe tbody tr th {\n",
       "        vertical-align: top;\n",
       "    }\n",
       "\n",
       "    .dataframe thead th {\n",
       "        text-align: right;\n",
       "    }\n",
       "</style>\n",
       "<table border=\"1\" class=\"dataframe\">\n",
       "  <thead>\n",
       "    <tr style=\"text-align: right;\">\n",
       "      <th></th>\n",
       "      <th>mode_id</th>\n",
       "      <th>mode_name</th>\n",
       "    </tr>\n",
       "  </thead>\n",
       "  <tbody>\n",
       "    <tr>\n",
       "      <th>0</th>\n",
       "      <td>1</td>\n",
       "      <td>Air</td>\n",
       "    </tr>\n",
       "    <tr>\n",
       "      <th>1</th>\n",
       "      <td>2</td>\n",
       "      <td>Sea</td>\n",
       "    </tr>\n",
       "    <tr>\n",
       "      <th>2</th>\n",
       "      <td>3</td>\n",
       "      <td>Land</td>\n",
       "    </tr>\n",
       "    <tr>\n",
       "      <th>3</th>\n",
       "      <td>9</td>\n",
       "      <td>Not reported</td>\n",
       "    </tr>\n",
       "  </tbody>\n",
       "</table>\n",
       "</div>"
      ],
      "text/plain": [
       "   mode_id     mode_name\n",
       "0        1           Air\n",
       "1        2           Sea\n",
       "2        3          Land\n",
       "3        9  Not reported"
      ]
     },
     "metadata": {},
     "output_type": "display_data"
    },
    {
     "name": "stdout",
     "output_type": "stream",
     "text": [
      "------------------------------------------------------------\n",
      "countries has 289 rows\n",
      "root\n",
      " |-- country_id: integer (nullable = true)\n",
      " |-- country_name: string (nullable = true)\n",
      "\n"
     ]
    },
    {
     "data": {
      "text/html": [
       "<div>\n",
       "<style scoped>\n",
       "    .dataframe tbody tr th:only-of-type {\n",
       "        vertical-align: middle;\n",
       "    }\n",
       "\n",
       "    .dataframe tbody tr th {\n",
       "        vertical-align: top;\n",
       "    }\n",
       "\n",
       "    .dataframe thead th {\n",
       "        text-align: right;\n",
       "    }\n",
       "</style>\n",
       "<table border=\"1\" class=\"dataframe\">\n",
       "  <thead>\n",
       "    <tr style=\"text-align: right;\">\n",
       "      <th></th>\n",
       "      <th>country_id</th>\n",
       "      <th>country_name</th>\n",
       "    </tr>\n",
       "  </thead>\n",
       "  <tbody>\n",
       "    <tr>\n",
       "      <th>0</th>\n",
       "      <td>582</td>\n",
       "      <td>MEXICO Air Sea</td>\n",
       "    </tr>\n",
       "    <tr>\n",
       "      <th>1</th>\n",
       "      <td>236</td>\n",
       "      <td>AFGHANISTAN</td>\n",
       "    </tr>\n",
       "    <tr>\n",
       "      <th>2</th>\n",
       "      <td>101</td>\n",
       "      <td>ALBANIA</td>\n",
       "    </tr>\n",
       "  </tbody>\n",
       "</table>\n",
       "</div>"
      ],
      "text/plain": [
       "   country_id    country_name\n",
       "0         582  MEXICO Air Sea\n",
       "1         236     AFGHANISTAN\n",
       "2         101         ALBANIA"
      ]
     },
     "metadata": {},
     "output_type": "display_data"
    },
    {
     "name": "stdout",
     "output_type": "stream",
     "text": [
      "------------------------------------------------------------\n",
      "states has 55 rows\n",
      "root\n",
      " |-- state_code: string (nullable = true)\n",
      " |-- state_name: string (nullable = true)\n",
      " |-- male_population: long (nullable = true)\n",
      " |-- female_population: long (nullable = true)\n",
      " |-- total_population: long (nullable = true)\n",
      " |-- veterans: long (nullable = true)\n",
      " |-- foreign_born: long (nullable = true)\n",
      " |-- american_indian_and_alaska_native: long (nullable = true)\n",
      " |-- asian: long (nullable = true)\n",
      " |-- black_or_african_american: long (nullable = true)\n",
      " |-- hispanic_or_latino: long (nullable = true)\n",
      " |-- white: long (nullable = true)\n",
      "\n"
     ]
    },
    {
     "data": {
      "text/html": [
       "<div>\n",
       "<style scoped>\n",
       "    .dataframe tbody tr th:only-of-type {\n",
       "        vertical-align: middle;\n",
       "    }\n",
       "\n",
       "    .dataframe tbody tr th {\n",
       "        vertical-align: top;\n",
       "    }\n",
       "\n",
       "    .dataframe thead th {\n",
       "        text-align: right;\n",
       "    }\n",
       "</style>\n",
       "<table border=\"1\" class=\"dataframe\">\n",
       "  <thead>\n",
       "    <tr style=\"text-align: right;\">\n",
       "      <th></th>\n",
       "      <th>state_code</th>\n",
       "      <th>state_name</th>\n",
       "      <th>male_population</th>\n",
       "      <th>female_population</th>\n",
       "      <th>total_population</th>\n",
       "      <th>veterans</th>\n",
       "      <th>foreign_born</th>\n",
       "      <th>american_indian_and_alaska_native</th>\n",
       "      <th>asian</th>\n",
       "      <th>black_or_african_american</th>\n",
       "      <th>hispanic_or_latino</th>\n",
       "      <th>white</th>\n",
       "    </tr>\n",
       "  </thead>\n",
       "  <tbody>\n",
       "    <tr>\n",
       "      <th>0</th>\n",
       "      <td>AL</td>\n",
       "      <td>ALABAMA</td>\n",
       "      <td>497248</td>\n",
       "      <td>552381</td>\n",
       "      <td>1049629</td>\n",
       "      <td>71543</td>\n",
       "      <td>52154</td>\n",
       "      <td>8084</td>\n",
       "      <td>28769</td>\n",
       "      <td>521068</td>\n",
       "      <td>39313</td>\n",
       "      <td>498920</td>\n",
       "    </tr>\n",
       "    <tr>\n",
       "      <th>1</th>\n",
       "      <td>AK</td>\n",
       "      <td>ALASKA</td>\n",
       "      <td>152945</td>\n",
       "      <td>145750</td>\n",
       "      <td>298695</td>\n",
       "      <td>27492</td>\n",
       "      <td>33258</td>\n",
       "      <td>36339</td>\n",
       "      <td>36825</td>\n",
       "      <td>23107</td>\n",
       "      <td>27261</td>\n",
       "      <td>212696</td>\n",
       "    </tr>\n",
       "    <tr>\n",
       "      <th>2</th>\n",
       "      <td>AZ</td>\n",
       "      <td>ARIZONA</td>\n",
       "      <td>2227455</td>\n",
       "      <td>2272087</td>\n",
       "      <td>4499542</td>\n",
       "      <td>264505</td>\n",
       "      <td>682313</td>\n",
       "      <td>129708</td>\n",
       "      <td>229183</td>\n",
       "      <td>296222</td>\n",
       "      <td>1508157</td>\n",
       "      <td>3591611</td>\n",
       "    </tr>\n",
       "  </tbody>\n",
       "</table>\n",
       "</div>"
      ],
      "text/plain": [
       "  state_code state_name  male_population  female_population  total_population  \\\n",
       "0         AL    ALABAMA           497248             552381           1049629   \n",
       "1         AK     ALASKA           152945             145750            298695   \n",
       "2         AZ    ARIZONA          2227455            2272087           4499542   \n",
       "\n",
       "   veterans  foreign_born  american_indian_and_alaska_native   asian  \\\n",
       "0     71543         52154                               8084   28769   \n",
       "1     27492         33258                              36339   36825   \n",
       "2    264505        682313                             129708  229183   \n",
       "\n",
       "   black_or_african_american  hispanic_or_latino    white  \n",
       "0                     521068               39313   498920  \n",
       "1                      23107               27261   212696  \n",
       "2                     296222             1508157  3591611  "
      ]
     },
     "metadata": {},
     "output_type": "display_data"
    },
    {
     "name": "stdout",
     "output_type": "stream",
     "text": [
      "------------------------------------------------------------\n",
      "visa has 19 rows\n",
      "root\n",
      " |-- visa_code: integer (nullable = true)\n",
      " |-- visa_categorie: string (nullable = true)\n",
      " |-- visa_type: string (nullable = true)\n",
      " |-- visa_type_description: string (nullable = true)\n",
      "\n"
     ]
    },
    {
     "data": {
      "text/html": [
       "<div>\n",
       "<style scoped>\n",
       "    .dataframe tbody tr th:only-of-type {\n",
       "        vertical-align: middle;\n",
       "    }\n",
       "\n",
       "    .dataframe tbody tr th {\n",
       "        vertical-align: top;\n",
       "    }\n",
       "\n",
       "    .dataframe thead th {\n",
       "        text-align: right;\n",
       "    }\n",
       "</style>\n",
       "<table border=\"1\" class=\"dataframe\">\n",
       "  <thead>\n",
       "    <tr style=\"text-align: right;\">\n",
       "      <th></th>\n",
       "      <th>visa_code</th>\n",
       "      <th>visa_categorie</th>\n",
       "      <th>visa_type</th>\n",
       "      <th>visa_type_description</th>\n",
       "    </tr>\n",
       "  </thead>\n",
       "  <tbody>\n",
       "    <tr>\n",
       "      <th>0</th>\n",
       "      <td>1</td>\n",
       "      <td>Business</td>\n",
       "      <td>B1</td>\n",
       "      <td>Visa Holder: Non-Immigrant Temporary Visitor f...</td>\n",
       "    </tr>\n",
       "    <tr>\n",
       "      <th>1</th>\n",
       "      <td>1</td>\n",
       "      <td>Business</td>\n",
       "      <td>WB</td>\n",
       "      <td>Visa Waiver Program: Temporary Visitor for Bus...</td>\n",
       "    </tr>\n",
       "    <tr>\n",
       "      <th>2</th>\n",
       "      <td>1</td>\n",
       "      <td>Business</td>\n",
       "      <td>GB</td>\n",
       "      <td>Visa Waiver Program: Guam Visa Waiver Business</td>\n",
       "    </tr>\n",
       "  </tbody>\n",
       "</table>\n",
       "</div>"
      ],
      "text/plain": [
       "   visa_code visa_categorie visa_type  \\\n",
       "0          1       Business        B1   \n",
       "1          1       Business        WB   \n",
       "2          1       Business        GB   \n",
       "\n",
       "                               visa_type_description  \n",
       "0  Visa Holder: Non-Immigrant Temporary Visitor f...  \n",
       "1  Visa Waiver Program: Temporary Visitor for Bus...  \n",
       "2     Visa Waiver Program: Guam Visa Waiver Business  "
      ]
     },
     "metadata": {},
     "output_type": "display_data"
    },
    {
     "name": "stdout",
     "output_type": "stream",
     "text": [
      "------------------------------------------------------------\n",
      "airports has 660 rows\n",
      "root\n",
      " |-- airport_id: string (nullable = true)\n",
      " |-- airport_name: string (nullable = true)\n",
      "\n"
     ]
    },
    {
     "data": {
      "text/html": [
       "<div>\n",
       "<style scoped>\n",
       "    .dataframe tbody tr th:only-of-type {\n",
       "        vertical-align: middle;\n",
       "    }\n",
       "\n",
       "    .dataframe tbody tr th {\n",
       "        vertical-align: top;\n",
       "    }\n",
       "\n",
       "    .dataframe thead th {\n",
       "        text-align: right;\n",
       "    }\n",
       "</style>\n",
       "<table border=\"1\" class=\"dataframe\">\n",
       "  <thead>\n",
       "    <tr style=\"text-align: right;\">\n",
       "      <th></th>\n",
       "      <th>airport_id</th>\n",
       "      <th>airport_name</th>\n",
       "    </tr>\n",
       "  </thead>\n",
       "  <tbody>\n",
       "    <tr>\n",
       "      <th>0</th>\n",
       "      <td>ALC</td>\n",
       "      <td>ALCAN</td>\n",
       "    </tr>\n",
       "    <tr>\n",
       "      <th>1</th>\n",
       "      <td>ANC</td>\n",
       "      <td>ANCHORAGE</td>\n",
       "    </tr>\n",
       "    <tr>\n",
       "      <th>2</th>\n",
       "      <td>BAR</td>\n",
       "      <td>BAKER AAF - BAKER ISLAND</td>\n",
       "    </tr>\n",
       "  </tbody>\n",
       "</table>\n",
       "</div>"
      ],
      "text/plain": [
       "  airport_id              airport_name\n",
       "0        ALC                     ALCAN\n",
       "1        ANC                 ANCHORAGE\n",
       "2        BAR  BAKER AAF - BAKER ISLAND"
      ]
     },
     "metadata": {},
     "output_type": "display_data"
    },
    {
     "name": "stdout",
     "output_type": "stream",
     "text": [
      "------------------------------------------------------------\n",
      "airport_data has 1956 rows\n",
      "root\n",
      " |-- ent_id: string (nullable = true)\n",
      " |-- type: string (nullable = true)\n",
      " |-- name: string (nullable = true)\n",
      " |-- elevation_ft: integer (nullable = true)\n",
      " |-- continent: string (nullable = true)\n",
      " |-- iso_country: string (nullable = true)\n",
      " |-- iso_region: string (nullable = true)\n",
      " |-- municipality: string (nullable = true)\n",
      " |-- gps_code: string (nullable = true)\n",
      " |-- iata_code: string (nullable = true)\n",
      " |-- local_code: string (nullable = true)\n",
      " |-- coordinates: string (nullable = true)\n",
      " |-- lat: float (nullable = true)\n",
      " |-- lng: float (nullable = true)\n",
      "\n"
     ]
    },
    {
     "data": {
      "text/html": [
       "<div>\n",
       "<style scoped>\n",
       "    .dataframe tbody tr th:only-of-type {\n",
       "        vertical-align: middle;\n",
       "    }\n",
       "\n",
       "    .dataframe tbody tr th {\n",
       "        vertical-align: top;\n",
       "    }\n",
       "\n",
       "    .dataframe thead th {\n",
       "        text-align: right;\n",
       "    }\n",
       "</style>\n",
       "<table border=\"1\" class=\"dataframe\">\n",
       "  <thead>\n",
       "    <tr style=\"text-align: right;\">\n",
       "      <th></th>\n",
       "      <th>ent_id</th>\n",
       "      <th>type</th>\n",
       "      <th>name</th>\n",
       "      <th>elevation_ft</th>\n",
       "      <th>continent</th>\n",
       "      <th>iso_country</th>\n",
       "      <th>iso_region</th>\n",
       "      <th>municipality</th>\n",
       "      <th>gps_code</th>\n",
       "      <th>iata_code</th>\n",
       "      <th>local_code</th>\n",
       "      <th>coordinates</th>\n",
       "      <th>lat</th>\n",
       "      <th>lng</th>\n",
       "    </tr>\n",
       "  </thead>\n",
       "  <tbody>\n",
       "    <tr>\n",
       "      <th>0</th>\n",
       "      <td>07FA</td>\n",
       "      <td>small_airport</td>\n",
       "      <td>Ocean Reef Club Airport</td>\n",
       "      <td>8</td>\n",
       "      <td>NA</td>\n",
       "      <td>US</td>\n",
       "      <td>US-FL</td>\n",
       "      <td>Key Largo</td>\n",
       "      <td>07FA</td>\n",
       "      <td>OCA</td>\n",
       "      <td>07FA</td>\n",
       "      <td>-80.274803161621, 25.325399398804</td>\n",
       "      <td>-80.274803</td>\n",
       "      <td>25.325399</td>\n",
       "    </tr>\n",
       "    <tr>\n",
       "      <th>1</th>\n",
       "      <td>0AK</td>\n",
       "      <td>small_airport</td>\n",
       "      <td>Pilot Station Airport</td>\n",
       "      <td>305</td>\n",
       "      <td>NA</td>\n",
       "      <td>US</td>\n",
       "      <td>US-AK</td>\n",
       "      <td>Pilot Station</td>\n",
       "      <td>None</td>\n",
       "      <td>PQS</td>\n",
       "      <td>0AK</td>\n",
       "      <td>-162.899994, 61.934601</td>\n",
       "      <td>-162.899994</td>\n",
       "      <td>61.934601</td>\n",
       "    </tr>\n",
       "    <tr>\n",
       "      <th>2</th>\n",
       "      <td>0CO2</td>\n",
       "      <td>small_airport</td>\n",
       "      <td>Crested Butte Airpark</td>\n",
       "      <td>8980</td>\n",
       "      <td>NA</td>\n",
       "      <td>US</td>\n",
       "      <td>US-CO</td>\n",
       "      <td>Crested Butte</td>\n",
       "      <td>0CO2</td>\n",
       "      <td>CSE</td>\n",
       "      <td>0CO2</td>\n",
       "      <td>-106.928341, 38.851918</td>\n",
       "      <td>-106.928345</td>\n",
       "      <td>38.851917</td>\n",
       "    </tr>\n",
       "  </tbody>\n",
       "</table>\n",
       "</div>"
      ],
      "text/plain": [
       "  ent_id           type                     name  elevation_ft continent  \\\n",
       "0   07FA  small_airport  Ocean Reef Club Airport             8        NA   \n",
       "1    0AK  small_airport    Pilot Station Airport           305        NA   \n",
       "2   0CO2  small_airport    Crested Butte Airpark          8980        NA   \n",
       "\n",
       "  iso_country iso_region   municipality gps_code iata_code local_code  \\\n",
       "0          US      US-FL      Key Largo     07FA       OCA       07FA   \n",
       "1          US      US-AK  Pilot Station     None       PQS        0AK   \n",
       "2          US      US-CO  Crested Butte     0CO2       CSE       0CO2   \n",
       "\n",
       "                         coordinates         lat        lng  \n",
       "0  -80.274803161621, 25.325399398804  -80.274803  25.325399  \n",
       "1             -162.899994, 61.934601 -162.899994  61.934601  \n",
       "2             -106.928341, 38.851918 -106.928345  38.851917  "
      ]
     },
     "metadata": {},
     "output_type": "display_data"
    },
    {
     "name": "stdout",
     "output_type": "stream",
     "text": [
      "------------------------------------------------------------\n",
      "cities has 28338 rows\n",
      "root\n",
      " |-- city: string (nullable = true)\n",
      " |-- city_ascii: string (nullable = true)\n",
      " |-- state_id: string (nullable = true)\n",
      " |-- state_name: string (nullable = true)\n",
      " |-- county_fips: integer (nullable = true)\n",
      " |-- county_name: string (nullable = true)\n",
      " |-- lat: float (nullable = true)\n",
      " |-- lng: float (nullable = true)\n",
      " |-- population: integer (nullable = true)\n",
      " |-- density: integer (nullable = true)\n",
      " |-- source: string (nullable = true)\n",
      " |-- military: string (nullable = true)\n",
      " |-- incorporated: string (nullable = true)\n",
      " |-- timezone: string (nullable = true)\n",
      " |-- ranking: integer (nullable = true)\n",
      " |-- zips: string (nullable = true)\n",
      " |-- id: integer (nullable = true)\n",
      "\n"
     ]
    },
    {
     "data": {
      "text/html": [
       "<div>\n",
       "<style scoped>\n",
       "    .dataframe tbody tr th:only-of-type {\n",
       "        vertical-align: middle;\n",
       "    }\n",
       "\n",
       "    .dataframe tbody tr th {\n",
       "        vertical-align: top;\n",
       "    }\n",
       "\n",
       "    .dataframe thead th {\n",
       "        text-align: right;\n",
       "    }\n",
       "</style>\n",
       "<table border=\"1\" class=\"dataframe\">\n",
       "  <thead>\n",
       "    <tr style=\"text-align: right;\">\n",
       "      <th></th>\n",
       "      <th>city</th>\n",
       "      <th>city_ascii</th>\n",
       "      <th>state_id</th>\n",
       "      <th>state_name</th>\n",
       "      <th>county_fips</th>\n",
       "      <th>county_name</th>\n",
       "      <th>lat</th>\n",
       "      <th>lng</th>\n",
       "      <th>population</th>\n",
       "      <th>density</th>\n",
       "      <th>source</th>\n",
       "      <th>military</th>\n",
       "      <th>incorporated</th>\n",
       "      <th>timezone</th>\n",
       "      <th>ranking</th>\n",
       "      <th>zips</th>\n",
       "      <th>id</th>\n",
       "    </tr>\n",
       "  </thead>\n",
       "  <tbody>\n",
       "    <tr>\n",
       "      <th>0</th>\n",
       "      <td>New York</td>\n",
       "      <td>New York</td>\n",
       "      <td>NY</td>\n",
       "      <td>New York</td>\n",
       "      <td>36061</td>\n",
       "      <td>New York</td>\n",
       "      <td>40.694302</td>\n",
       "      <td>-73.924896</td>\n",
       "      <td>18713220</td>\n",
       "      <td>10715</td>\n",
       "      <td>polygon</td>\n",
       "      <td>FALSE</td>\n",
       "      <td>TRUE</td>\n",
       "      <td>America/New_York</td>\n",
       "      <td>1</td>\n",
       "      <td>11229 11226 11225 11224 11222 11221 11220 1138...</td>\n",
       "      <td>1840034016</td>\n",
       "    </tr>\n",
       "    <tr>\n",
       "      <th>1</th>\n",
       "      <td>Los Angeles</td>\n",
       "      <td>Los Angeles</td>\n",
       "      <td>CA</td>\n",
       "      <td>California</td>\n",
       "      <td>6037</td>\n",
       "      <td>Los Angeles</td>\n",
       "      <td>34.113899</td>\n",
       "      <td>-118.406799</td>\n",
       "      <td>12750807</td>\n",
       "      <td>3276</td>\n",
       "      <td>polygon</td>\n",
       "      <td>FALSE</td>\n",
       "      <td>TRUE</td>\n",
       "      <td>America/Los_Angeles</td>\n",
       "      <td>1</td>\n",
       "      <td>90291 90293 90292 91316 91311 90037 90031 9000...</td>\n",
       "      <td>1840020491</td>\n",
       "    </tr>\n",
       "    <tr>\n",
       "      <th>2</th>\n",
       "      <td>Chicago</td>\n",
       "      <td>Chicago</td>\n",
       "      <td>IL</td>\n",
       "      <td>Illinois</td>\n",
       "      <td>17031</td>\n",
       "      <td>Cook</td>\n",
       "      <td>41.837299</td>\n",
       "      <td>-87.686203</td>\n",
       "      <td>8604203</td>\n",
       "      <td>4574</td>\n",
       "      <td>polygon</td>\n",
       "      <td>FALSE</td>\n",
       "      <td>TRUE</td>\n",
       "      <td>America/Chicago</td>\n",
       "      <td>1</td>\n",
       "      <td>60018 60649 60641 60640 60643 60642 60645 6064...</td>\n",
       "      <td>1840000494</td>\n",
       "    </tr>\n",
       "  </tbody>\n",
       "</table>\n",
       "</div>"
      ],
      "text/plain": [
       "          city   city_ascii state_id  state_name  county_fips  county_name  \\\n",
       "0     New York     New York       NY    New York        36061     New York   \n",
       "1  Los Angeles  Los Angeles       CA  California         6037  Los Angeles   \n",
       "2      Chicago      Chicago       IL    Illinois        17031         Cook   \n",
       "\n",
       "         lat         lng  population  density   source military incorporated  \\\n",
       "0  40.694302  -73.924896    18713220    10715  polygon    FALSE         TRUE   \n",
       "1  34.113899 -118.406799    12750807     3276  polygon    FALSE         TRUE   \n",
       "2  41.837299  -87.686203     8604203     4574  polygon    FALSE         TRUE   \n",
       "\n",
       "              timezone  ranking  \\\n",
       "0     America/New_York        1   \n",
       "1  America/Los_Angeles        1   \n",
       "2      America/Chicago        1   \n",
       "\n",
       "                                                zips          id  \n",
       "0  11229 11226 11225 11224 11222 11221 11220 1138...  1840034016  \n",
       "1  90291 90293 90292 91316 91311 90037 90031 9000...  1840020491  \n",
       "2  60018 60649 60641 60640 60643 60642 60645 6064...  1840000494  "
      ]
     },
     "metadata": {},
     "output_type": "display_data"
    }
   ],
   "source": [
    "# Tables after cleaning and transform processes\n",
    "for df_name, df in dict_all_df.items():\n",
    "    lll = df.count()\n",
    "    print('------------------------------------------------------------')\n",
    "    print(f'{df_name} has {lll} rows')\n",
    "    df.printSchema()\n",
    "    if lll>10:\n",
    "        display(df.limit(3).toPandas().head(3))\n",
    "    else:\n",
    "        display(df.toPandas())\n",
    "    "
   ]
  },
  {
   "cell_type": "markdown",
   "metadata": {
    "editable": true
   },
   "source": [
    "### Step 3: Define the Data Model\n",
    "#### 3.1 Conceptual Data Model\n",
    "This model have a FACT table for inmigration data. DIM tables are available to enrich avialable information, i.e. **airport** details and **state** statistics. \n",
    "<br>\n",
    "Examples on how to query current model can be found in a separate file:\n",
    "- **Query Examples.ipynb**\n",
    "<br><br><br>\n",
    "\n",
    "As *future work*:\n",
    "- *airport* and *airport_data* can be easily merged to simplify the model. \n",
    "- we prepared the *cities* table with relevant information for each city. In the future, this information may be aggregated and converted to statistics for each state.\n",
    "- the *temperature* table was also created. This table has information about each city but does not refer to the state of that city, so it will be necessary to make an interpolation of the location (lat, lng) to be able to use this data in our model."
   ]
  },
  {
   "cell_type": "markdown",
   "metadata": {
    "editable": true
   },
   "source": [
    "<img src=\"model.png\" width=\"1250\"/>"
   ]
  },
  {
   "cell_type": "markdown",
   "metadata": {
    "editable": true
   },
   "source": [
    "#### 3.2 Mapping Out Data Pipelines\n",
    "After cleaning and transforming all input files into dataframes/tables, we will generate our model in parquet files:\n",
    "- DIM files\n",
    "- FACT table particioned by arrival_year, arrival_month and arrival_day \n",
    "\n"
   ]
  },
  {
   "cell_type": "markdown",
   "metadata": {
    "editable": true
   },
   "source": [
    "### Step 4: Run Pipelines to Model the Data \n",
    "#### 4.1 Create the data model\n",
    "Build the data pipelines to create the data model."
   ]
  },
  {
   "cell_type": "code",
   "execution_count": 12,
   "metadata": {
    "editable": true
   },
   "outputs": [],
   "source": [
    "dict_all_df = {\n",
    "    'inmigration' : {'df'  : df_inmigration_clean,\n",
    "                     'file':'./model/facts_inmigration.parquet'},\n",
    "    'temperature' : {'df'  : df_temp_clean,\n",
    "                     'file': './model/temperature.parquet'},\n",
    "    'modes'       : {'df'  : df_modes_clean,\n",
    "                     'file': './model/mode.parquet'},\n",
    "    'countries'   : {'df'  : df_countries_clean,\n",
    "                     'file': './model/countrie.parquet'},\n",
    "    'states'      : {'df'  : df_states_clean,\n",
    "                     'file': './model/state.parquet'},\n",
    "    'visa'        : {'df'  : df_visa_clean,\n",
    "                     'file': './model/visa.parquet'},\n",
    "    'airports'    : {'df'  : df_airports_clean,\n",
    "                     'file': './model/airport.parquet'},\n",
    "    'airport_data': {'df'  : df_airport_data_clean,\n",
    "                     'file': './model/airport_data.parquet'},\n",
    "    'cities'      : {'df'  : df_cities_coord_clean,\n",
    "                     'file': './model/city.parquet'},\n",
    "}"
   ]
  },
  {
   "cell_type": "code",
   "execution_count": 13,
   "metadata": {
    "editable": true
   },
   "outputs": [
    {
     "name": "stdout",
     "output_type": "stream",
     "text": [
      "Export inmigration FACT Table to paquet files\n",
      "Export temperature DIM Table to paquet files\n",
      "Export modes DIM Table to paquet files\n",
      "Export countries DIM Table to paquet files\n",
      "Export states DIM Table to paquet files\n",
      "Export visa DIM Table to paquet files\n",
      "Export airports DIM Table to paquet files\n",
      "Export airport_data DIM Table to paquet files\n",
      "Export cities DIM Table to paquet files\n"
     ]
    }
   ],
   "source": [
    "for name, _dict in dict_all_df.items():\n",
    "    _df = _dict['df']\n",
    "    _path = _dict['file']\n",
    "    if name == 'inmigration':\n",
    "        print(f'Export {name} FACT Table to paquet files')\n",
    "        _df.write.partitionBy(\"arrival_year\", \"arrival_month\", \"arrival_day\").mode('overwrite').parquet(_path)\n",
    "    else:\n",
    "        print(f'Export {name} DIM Table to paquet files')\n",
    "        _df.write.mode('overwrite').parquet(_path)\n",
    "   "
   ]
  },
  {
   "cell_type": "markdown",
   "metadata": {
    "editable": true
   },
   "source": [
    "#### 4.2 Data Quality Checks\n",
    "\n",
    "We will perform the following data validations:\n",
    "- Each table has rows (more than 0) and unique values are respected\n",
    "- All entries in FACT table (inmigration) are identified (present) in DIM tables\n",
    " \n",
    "Run Quality Checks<br>\n",
    "- **We will not run quality checks on *cities* and *temperature* because this will only be useful after implementing the comments described above as *future work*.**\n",
    " "
   ]
  },
  {
   "cell_type": "code",
   "execution_count": 14,
   "metadata": {
    "editable": true
   },
   "outputs": [],
   "source": [
    "dict_all_df = {\n",
    "    'inmigration' : {'df'  : df_inmigration_clean,\n",
    "                     'file':'./model/facts_inmigration.parquet',\n",
    "                     'unique_key': 'cic_id'},\n",
    "    'modes'       : {'df'  : df_modes_clean,\n",
    "                     'file': './model/mode.parquet',\n",
    "                     'unique_key': 'mode_id'},\n",
    "    'countries'   : {'df'  : df_countries_clean,\n",
    "                     'file': './model/countrie.parquet',\n",
    "                     'unique_key': 'country_id'},\n",
    "    'states'      : {'df'  : df_states_clean,\n",
    "                     'file': './model/state.parquet',\n",
    "                     'unique_key': 'state_code'},\n",
    "    'visa'        : {'df'  : df_visa_clean,\n",
    "                     'file': './model/visa.parquet',\n",
    "                     'unique_key': 'visa_type'},\n",
    "    'airports'    : {'df'  : df_airports_clean,\n",
    "                     'file': './model/airport.parquet',\n",
    "                     'unique_key': 'airport_id'},\n",
    "    'airport_data': {'df'  : df_airport_data_clean,\n",
    "                     'file': './model/airport_data.parquet',\n",
    "                     'unique_key': 'iata_code'},\n",
    "}"
   ]
  },
  {
   "cell_type": "markdown",
   "metadata": {
    "editable": true
   },
   "source": [
    "##### Check rows"
   ]
  },
  {
   "cell_type": "code",
   "execution_count": 15,
   "metadata": {
    "editable": true
   },
   "outputs": [],
   "source": [
    "validation_dfs = Validator(spark,dict_all_df)"
   ]
  },
  {
   "cell_type": "code",
   "execution_count": 16,
   "metadata": {
    "editable": true
   },
   "outputs": [
    {
     "data": {
      "text/plain": [
       "{'inmigration': 'OK',\n",
       " 'modes': 'OK',\n",
       " 'countries': 'OK',\n",
       " 'states': 'OK',\n",
       " 'visa': 'OK',\n",
       " 'airports': 'OK',\n",
       " 'airport_data': 'OK'}"
      ]
     },
     "execution_count": 16,
     "metadata": {},
     "output_type": "execute_result"
    }
   ],
   "source": [
    "row_status = validation_dfs.check_rows()\n",
    "row_status"
   ]
  },
  {
   "cell_type": "markdown",
   "metadata": {
    "editable": true
   },
   "source": [
    "##### Check FACT table integrity"
   ]
  },
  {
   "cell_type": "code",
   "execution_count": 17,
   "metadata": {
    "editable": true
   },
   "outputs": [
    {
     "data": {
      "text/plain": [
       "{'modes': True,\n",
       " 'countries': True,\n",
       " 'states': True,\n",
       " 'visa': True,\n",
       " 'airports': True,\n",
       " 'airport_data': True}"
      ]
     },
     "execution_count": 17,
     "metadata": {},
     "output_type": "execute_result"
    }
   ],
   "source": [
    "fact_integrity, rows_integrity = validation_dfs.check_integrity()\n",
    "fact_integrity"
   ]
  },
  {
   "cell_type": "code",
   "execution_count": 18,
   "metadata": {
    "editable": true
   },
   "outputs": [
    {
     "data": {
      "text/plain": [
       "{'modes': 0,\n",
       " 'countries': 0,\n",
       " 'states': 0,\n",
       " 'visa': 0,\n",
       " 'airports': 0,\n",
       " 'airport_data': 0}"
      ]
     },
     "execution_count": 18,
     "metadata": {},
     "output_type": "execute_result"
    }
   ],
   "source": [
    "# 0 it's OK (good)\n",
    "rows_integrity"
   ]
  },
  {
   "cell_type": "markdown",
   "metadata": {
    "editable": true
   },
   "source": [
    "#### 4.3 Data dictionary \n",
    "Create a data dictionary for your data model. For each field, provide a brief description of what the data is and where it came from. You can include the data dictionary in the notebook or in a separate file.\n",
    "\n",
    "Please refer to files **Initial Data Dictionary.md** and **Data Dictionary.md** for more details on each table."
   ]
  },
  {
   "cell_type": "markdown",
   "metadata": {
    "editable": true
   },
   "source": [
    "#### Step 5: Complete Project Write Up\n",
    "* Clearly state the rationale for the choice of tools and technologies for the project.\n",
    "* Propose how often the data should be updated and why.\n",
    "* Write a description of how you would approach the problem differently under the following scenarios:\n",
    " * The data was increased by 100x.\n",
    " * The data populates a dashboard that must be updated on a daily basis by 7am every day.\n",
    " * The database needed to be accessed by 100+ people."
   ]
  },
  {
   "cell_type": "markdown",
   "metadata": {
    "editable": true
   },
   "source": [
    "**Final Comments**\n",
    "- In this project we used Apache Spark to process data and create the model. Spark is good at handling large files and that's why we were able to analyze more than 3M of data entries. Data persists in parquet files after processing.\n",
    "- Data can be updated on a daily basis because it's being stored by arrival date (partitioned by).\n",
    "- Hypothetical scenarios:\n",
    "    - If data increases 100x we can continue using Spark or we can evaluate migrating the entire infrastructure to AWS: using S3 for storage and redshift for processing (great scalability)\n",
    "    - To update data on a fixed schedule we could use Apache Airflow with a fixed schedule. Ss an intermediate process, we can evaluate the performance of having a cron job running on AWS (before implementing Airflow).\n",
    "    - If the database needs to be accessed by 100+ people, making the data available through S3 (files) and/or give access to a redshift cluster (database) would be good options."
   ]
  },
  {
   "cell_type": "markdown",
   "metadata": {
    "editable": true
   },
   "source": [
    "#### Reminder:\n",
    "Examples on how to query current model can be found in a separate file:\n",
    "- **Query Examples.ipynb**\n",
    "    - Example 1: inmigration data from a specific arrival day\n",
    "    - Example 2: inmigration data from a specific airport\n",
    "    - Example 3: inmigration data from people who were born in BRAZIL and crossed the LAND border"
   ]
  },
  {
   "cell_type": "code",
   "execution_count": null,
   "metadata": {
    "editable": true
   },
   "outputs": [],
   "source": []
  }
 ],
 "metadata": {
  "kernelspec": {
   "display_name": "Python 3",
   "language": "python",
   "name": "python3"
  },
  "language_info": {
   "codemirror_mode": {
    "name": "ipython",
    "version": 3
   },
   "file_extension": ".py",
   "mimetype": "text/x-python",
   "name": "python",
   "nbconvert_exporter": "python",
   "pygments_lexer": "ipython3",
   "version": "3.6.3"
  }
 },
 "nbformat": 4,
 "nbformat_minor": 4
}
